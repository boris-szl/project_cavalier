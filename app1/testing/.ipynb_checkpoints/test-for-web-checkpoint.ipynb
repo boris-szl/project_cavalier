{
 "cells": [
  {
   "cell_type": "code",
   "execution_count": 1,
   "id": "14aaf65c-9637-445e-b492-377466122b53",
   "metadata": {},
   "outputs": [],
   "source": [
    "import sys, os"
   ]
  },
  {
   "cell_type": "code",
   "execution_count": 24,
   "id": "716ef486-991d-48e0-8ed0-cb07e28b1fcd",
   "metadata": {},
   "outputs": [],
   "source": [
    "sys.path.insert(0, '..')\n",
    "from modules import findata as fd\n",
    "from modules import company"
   ]
  },
  {
   "cell_type": "code",
   "execution_count": 25,
   "id": "c03db66c-5914-41dd-8a05-fe34a7cec14b",
   "metadata": {},
   "outputs": [],
   "source": [
    "import pandas as pd\n",
    "import numpy as np\n",
    "import json"
   ]
  },
  {
   "cell_type": "code",
   "execution_count": 26,
   "id": "65d5027f-79f7-4765-a413-92e428070a9f",
   "metadata": {},
   "outputs": [],
   "source": [
    "def renameCols(df):\n",
    "    col_list = list(df.columns)\n",
    "    df2 = df.set_axis([x.strftime(\"%m/%d/%Y\") for x in col_list], axis=1, inplace=False)\n",
    "    return df2\n",
    "\n",
    "def setDateRows1(df):\n",
    "    row_list = list(df.index)\n",
    "    df2 = df.set_axis([x.strftime(\"%m/%d/%Y\") for x in row_list], axis=0, inplace=False)\n",
    "    return df2"
   ]
  },
  {
   "cell_type": "code",
   "execution_count": 37,
   "id": "e4f5fdcf-a044-4a08-af39-72b901af72bd",
   "metadata": {},
   "outputs": [],
   "source": [
    "target = company.Company(\"MSFT\")"
   ]
  },
  {
   "cell_type": "code",
   "execution_count": 38,
   "id": "4b1d8708-99d4-4525-abab-eb4b5876d8f5",
   "metadata": {},
   "outputs": [
    {
     "data": {
      "text/plain": [
       "modules.company.Company"
      ]
     },
     "execution_count": 38,
     "metadata": {},
     "output_type": "execute_result"
    }
   ],
   "source": [
    "type(target)"
   ]
  },
  {
   "cell_type": "code",
   "execution_count": 39,
   "id": "711968fc-d402-4ab4-ba8c-d365450c3506",
   "metadata": {},
   "outputs": [],
   "source": [
    "df = pd.DataFrame(target.calculateROIC())"
   ]
  },
  {
   "cell_type": "code",
   "execution_count": 40,
   "id": "2d2211ca-82e3-4ba5-880e-96146282e5d0",
   "metadata": {},
   "outputs": [],
   "source": [
    "def getNopat(self):\n",
    "    return self.getEbit() + self.getDepreciation() - self.getIncomeTaxes()"
   ]
  },
  {
   "cell_type": "code",
   "execution_count": 30,
   "id": "7704849a-01b1-4d0b-81c3-34dc163ab4a6",
   "metadata": {},
   "outputs": [
    {
     "data": {
      "text/html": [
       "<div>\n",
       "<style scoped>\n",
       "    .dataframe tbody tr th:only-of-type {\n",
       "        vertical-align: middle;\n",
       "    }\n",
       "\n",
       "    .dataframe tbody tr th {\n",
       "        vertical-align: top;\n",
       "    }\n",
       "\n",
       "    .dataframe thead th {\n",
       "        text-align: right;\n",
       "    }\n",
       "</style>\n",
       "<table border=\"1\" class=\"dataframe\">\n",
       "  <thead>\n",
       "    <tr style=\"text-align: right;\">\n",
       "      <th></th>\n",
       "      <th>0</th>\n",
       "    </tr>\n",
       "    <tr>\n",
       "      <th></th>\n",
       "      <th></th>\n",
       "    </tr>\n",
       "  </thead>\n",
       "  <tbody>\n",
       "    <tr>\n",
       "      <th>2021-06-30</th>\n",
       "      <td>74.136545</td>\n",
       "    </tr>\n",
       "    <tr>\n",
       "      <th>2020-06-30</th>\n",
       "      <td>51.722093</td>\n",
       "    </tr>\n",
       "    <tr>\n",
       "      <th>2019-06-30</th>\n",
       "      <td>47.215731</td>\n",
       "    </tr>\n",
       "    <tr>\n",
       "      <th>2018-06-30</th>\n",
       "      <td>22.536744</td>\n",
       "    </tr>\n",
       "  </tbody>\n",
       "</table>\n",
       "</div>"
      ],
      "text/plain": [
       "                    0\n",
       "                     \n",
       "2021-06-30  74.136545\n",
       "2020-06-30  51.722093\n",
       "2019-06-30  47.215731\n",
       "2018-06-30  22.536744"
      ]
     },
     "execution_count": 30,
     "metadata": {},
     "output_type": "execute_result"
    }
   ],
   "source": [
    "target_nopat  = pd.DataFrame(target.getNopat())"
   ]
  },
  {
   "cell_type": "code",
   "execution_count": 29,
   "id": "1e27dc9f-5065-40a5-8dfe-e7b4ebf51da5",
   "metadata": {},
   "outputs": [
    {
     "data": {
      "text/plain": [
       "[{'Dates': '06/30/2021', 'ROIC': 74.13654450699224},\n",
       " {'Dates': '06/30/2020', 'ROIC': 51.72209297021121},\n",
       " {'Dates': '06/30/2019', 'ROIC': 47.21573135340896},\n",
       " {'Dates': '06/30/2018', 'ROIC': 22.536744202781225}]"
      ]
     },
     "execution_count": 29,
     "metadata": {},
     "output_type": "execute_result"
    }
   ],
   "source": [
    "def to_dict(df):\n",
    "    data = []\n",
    "    df = setDateRows1(df)\n",
    "    df = df.reset_index()\n",
    "    df = df.set_axis([\"Dates\", \"ROIC\"], axis=1, inplace=False)\n",
    "    dict_data = []\n",
    "    for i in range(df.shape[0]):\n",
    "        dict_data.append(dict(df.iloc[i]))\n",
    "    return dict_data\n",
    "\n",
    "to_dict(df)"
   ]
  },
  {
   "cell_type": "code",
   "execution_count": 11,
   "id": "ac371d61-7ad8-4b41-8012-fa5a81d1620f",
   "metadata": {},
   "outputs": [
    {
     "ename": "NameError",
     "evalue": "name 'df' is not defined",
     "output_type": "error",
     "traceback": [
      "\u001b[0;31m---------------------------------------------------------------------------\u001b[0m",
      "\u001b[0;31mNameError\u001b[0m                                 Traceback (most recent call last)",
      "\u001b[0;32m/var/folders/js/lf9xkn9x7yg146j_k40r_0dw0000gn/T/ipykernel_15469/158637589.py\u001b[0m in \u001b[0;36m<module>\u001b[0;34m\u001b[0m\n\u001b[0;32m----> 1\u001b[0;31m \u001b[0mallData\u001b[0m \u001b[0;34m=\u001b[0m \u001b[0mto_dict\u001b[0m\u001b[0;34m(\u001b[0m\u001b[0mdf\u001b[0m\u001b[0;34m)\u001b[0m\u001b[0;34m\u001b[0m\u001b[0;34m\u001b[0m\u001b[0m\n\u001b[0m\u001b[1;32m      2\u001b[0m \u001b[0mtype\u001b[0m\u001b[0;34m(\u001b[0m\u001b[0mallData\u001b[0m\u001b[0;34m)\u001b[0m\u001b[0;34m\u001b[0m\u001b[0;34m\u001b[0m\u001b[0m\n\u001b[1;32m      3\u001b[0m \u001b[0;32mfor\u001b[0m \u001b[0mi\u001b[0m \u001b[0;32min\u001b[0m \u001b[0mallData\u001b[0m\u001b[0;34m:\u001b[0m\u001b[0;34m\u001b[0m\u001b[0;34m\u001b[0m\u001b[0m\n\u001b[1;32m      4\u001b[0m     \u001b[0mprint\u001b[0m\u001b[0;34m(\u001b[0m\u001b[0mi\u001b[0m\u001b[0;34m)\u001b[0m\u001b[0;34m\u001b[0m\u001b[0;34m\u001b[0m\u001b[0m\n",
      "\u001b[0;31mNameError\u001b[0m: name 'df' is not defined"
     ]
    }
   ],
   "source": [
    "allData = to_dict(df)\n",
    "type(allData)\n",
    "for i in allData:\n",
    "    print(i)"
   ]
  },
  {
   "cell_type": "code",
   "execution_count": null,
   "id": "9c7d93a1-3cd0-4034-9faa-0af43e214849",
   "metadata": {},
   "outputs": [],
   "source": []
  },
  {
   "cell_type": "code",
   "execution_count": null,
   "id": "52b5155e-5bc4-4324-a371-fc6fe8aa8e52",
   "metadata": {},
   "outputs": [],
   "source": []
  },
  {
   "cell_type": "code",
   "execution_count": null,
   "id": "77bd9554-b4ae-49e4-81cb-434eec9c37f1",
   "metadata": {},
   "outputs": [],
   "source": [
    "\n",
    "allData"
   ]
  },
  {
   "cell_type": "code",
   "execution_count": null,
   "id": "a5115d4f-3286-44b3-85dd-78d63725c7c3",
   "metadata": {},
   "outputs": [],
   "source": []
  },
  {
   "cell_type": "code",
   "execution_count": null,
   "id": "2009633b-c9b4-4ada-9dec-6455dc0b0666",
   "metadata": {},
   "outputs": [],
   "source": []
  }
 ],
 "metadata": {
  "kernelspec": {
   "display_name": "Python 3 (ipykernel)",
   "language": "python",
   "name": "python3"
  },
  "language_info": {
   "codemirror_mode": {
    "name": "ipython",
    "version": 3
   },
   "file_extension": ".py",
   "mimetype": "text/x-python",
   "name": "python",
   "nbconvert_exporter": "python",
   "pygments_lexer": "ipython3",
   "version": "3.8.8"
  }
 },
 "nbformat": 4,
 "nbformat_minor": 5
}
