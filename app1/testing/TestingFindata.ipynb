{
 "cells": [
  {
   "cell_type": "markdown",
   "id": "a8f50ead-3cc9-493f-a700-232b1ad403bd",
   "metadata": {},
   "source": [
    "## Testing Findata Module\n",
    "### Shits a fuckin mess right now, good fucking job Boris"
   ]
  },
  {
   "cell_type": "code",
   "execution_count": 7,
   "id": "2dbf1a2f-b220-4fc9-b671-842d4536a8a5",
   "metadata": {},
   "outputs": [],
   "source": [
    "import pandas as pd\n",
    "import numpy as np\n",
    "import requests\n",
    "import re\n",
    "import json\n",
    "import time"
   ]
  },
  {
   "cell_type": "code",
   "execution_count": 8,
   "id": "c1df0bf9-271a-4b0f-a3c1-2c82df5236b2",
   "metadata": {},
   "outputs": [],
   "source": [
    "import sys, os\n",
    "sys.path.insert(0, '..')"
   ]
  },
  {
   "cell_type": "code",
   "execution_count": 9,
   "id": "60ec934f-d215-4b3a-b084-132a4f13b36c",
   "metadata": {},
   "outputs": [],
   "source": [
    "from modules import findata as fd"
   ]
  },
  {
   "cell_type": "code",
   "execution_count": null,
   "id": "91de02e0-1ce9-4cba-8126-94eaf133006b",
   "metadata": {},
   "outputs": [],
   "source": []
  },
  {
   "cell_type": "markdown",
   "id": "f44c813b-ce3d-4ac1-80af-0bbeae392e8a",
   "metadata": {},
   "source": [
    "## New Implementations"
   ]
  },
  {
   "cell_type": "code",
   "execution_count": null,
   "id": "65c41bda-9e8e-4049-95a4-9765ae92243b",
   "metadata": {},
   "outputs": [],
   "source": []
  },
  {
   "cell_type": "code",
   "execution_count": 10,
   "id": "e8cc7aa7-ddb4-4c53-89f4-b92042f8018f",
   "metadata": {},
   "outputs": [],
   "source": [
    "headers = {\n",
    "    \"User-Agent\": \"Mozilla/5.0 (Windows NT 10.0; Win64; x64) AppleWebKit/537.36 (KHTML, like Gecko) Chrome/92.0.4515.131 Safari/537.3\"\n",
    "    }"
   ]
  },
  {
   "cell_type": "code",
   "execution_count": 11,
   "id": "c7184dee-01a7-403d-b927-89b548abea7e",
   "metadata": {},
   "outputs": [
    {
     "data": {
      "text/html": [
       "<div>\n",
       "<style scoped>\n",
       "    .dataframe tbody tr th:only-of-type {\n",
       "        vertical-align: middle;\n",
       "    }\n",
       "\n",
       "    .dataframe tbody tr th {\n",
       "        vertical-align: top;\n",
       "    }\n",
       "\n",
       "    .dataframe thead th {\n",
       "        text-align: right;\n",
       "    }\n",
       "</style>\n",
       "<table border=\"1\" class=\"dataframe\">\n",
       "  <thead>\n",
       "    <tr style=\"text-align: right;\">\n",
       "      <th></th>\n",
       "      <th>Period</th>\n",
       "      <th>Values in %</th>\n",
       "    </tr>\n",
       "  </thead>\n",
       "  <tbody>\n",
       "    <tr>\n",
       "      <th>0</th>\n",
       "      <td>2022-04</td>\n",
       "      <td>1.29</td>\n",
       "    </tr>\n",
       "    <tr>\n",
       "      <th>1</th>\n",
       "      <td>2022-03</td>\n",
       "      <td>0.72</td>\n",
       "    </tr>\n",
       "    <tr>\n",
       "      <th>2</th>\n",
       "      <td>2022-02</td>\n",
       "      <td>0.54</td>\n",
       "    </tr>\n",
       "    <tr>\n",
       "      <th>3</th>\n",
       "      <td>2022-01</td>\n",
       "      <td>0.18</td>\n",
       "    </tr>\n",
       "    <tr>\n",
       "      <th>4</th>\n",
       "      <td>2021-12</td>\n",
       "      <td>-0.05</td>\n",
       "    </tr>\n",
       "    <tr>\n",
       "      <th>...</th>\n",
       "      <td>...</td>\n",
       "      <td>...</td>\n",
       "    </tr>\n",
       "    <tr>\n",
       "      <th>347</th>\n",
       "      <td>1993-05</td>\n",
       "      <td>7.06</td>\n",
       "    </tr>\n",
       "    <tr>\n",
       "      <th>348</th>\n",
       "      <td>1993-04</td>\n",
       "      <td>6.93</td>\n",
       "    </tr>\n",
       "    <tr>\n",
       "      <th>349</th>\n",
       "      <td>1993-03</td>\n",
       "      <td>6.86</td>\n",
       "    </tr>\n",
       "    <tr>\n",
       "      <th>350</th>\n",
       "      <td>1993-02</td>\n",
       "      <td>7.13</td>\n",
       "    </tr>\n",
       "    <tr>\n",
       "      <th>351</th>\n",
       "      <td>1993-01</td>\n",
       "      <td>7.22</td>\n",
       "    </tr>\n",
       "  </tbody>\n",
       "</table>\n",
       "<p>352 rows × 2 columns</p>\n",
       "</div>"
      ],
      "text/plain": [
       "      Period Values in %\n",
       "0    2022-04        1.29\n",
       "1    2022-03        0.72\n",
       "2    2022-02        0.54\n",
       "3    2022-01        0.18\n",
       "4    2021-12       -0.05\n",
       "..       ...         ...\n",
       "347  1993-05        7.06\n",
       "348  1993-04        6.93\n",
       "349  1993-03        6.86\n",
       "350  1993-02        7.13\n",
       "351  1993-01        7.22\n",
       "\n",
       "[352 rows x 2 columns]"
      ]
     },
     "execution_count": 11,
     "metadata": {},
     "output_type": "execute_result"
    }
   ],
   "source": [
    "def getRiskFreeRatesForAustria():\n",
    "    # returns long-term interest rate for convergence purposes - 10 years maturity, from last month to 1993\n",
    "    # in pandas.DataFrame format\n",
    "    source = \"https://sdw.ecb.europa.eu/quickview.do?SERIES_KEY=229.IRS.M.AT.L.L40.CI.0000.EUR.N.Z\"\n",
    "    data = pd.read_html(requests.get(source, headers=headers).text)\n",
    "    table = data[5].loc[2:].reset_index(drop=True)\n",
    "    table = table.drop(columns=[\"obs. status\"])\n",
    "    table.columns = [\"Period\", \"Values in %\"]\n",
    "    return table\n",
    "    \n",
    "getRiskFreeRatesForAustria()"
   ]
  },
  {
   "cell_type": "code",
   "execution_count": 135,
   "id": "efb58324-2655-4d4e-b2c0-c9a14aac4126",
   "metadata": {},
   "outputs": [
    {
     "data": {
      "text/plain": [
       "{'Server': 'myracloud', 'Date': 'Mon, 25 Apr 2022 12:21:24 GMT', 'Content-Type': 'text/html;charset=UTF-8', 'Transfer-Encoding': 'chunked', 'Connection': 'keep-alive', 'Vary': 'accept, accept-encoding, origin', 'Cache-Control': 'no-transform, proxy-revalidate, public, max-age=30', 'Last-Modified': 'Tue, 12 Apr 2022 08:00:00 GMT', 'Content-Encoding': 'gzip', 'Expires': 'Mon, 25 Apr 2022 10:02:13 GMT', 'X-CDN': '1'}"
      ]
     },
     "execution_count": 135,
     "metadata": {},
     "output_type": "execute_result"
    }
   ],
   "source": [
    "URL = \"https://sdw.ecb.europa.eu/quickview.do?SERIES_KEY=229.IRS.M.AT.L.L40.CI.0000.EUR.N.Z\"\n",
    "r = requests.get(URL)\n",
    "r.headers"
   ]
  },
  {
   "cell_type": "code",
   "execution_count": 136,
   "id": "42f9ef86-ae7e-4f26-adcf-e9c404c52c2c",
   "metadata": {},
   "outputs": [
    {
     "data": {
      "text/plain": [
       "'text/html;charset=UTF-8'"
      ]
     },
     "execution_count": 136,
     "metadata": {},
     "output_type": "execute_result"
    }
   ],
   "source": [
    "r.headers['content-type']"
   ]
  },
  {
   "cell_type": "code",
   "execution_count": 137,
   "id": "e1b266aa-df38-4c9e-b936-fed7a860824c",
   "metadata": {},
   "outputs": [
    {
     "name": "stdout",
     "output_type": "stream",
     "text": [
      "wake up\n"
     ]
    }
   ],
   "source": [
    "time.sleep(5)\n",
    "print(\"wake up\")"
   ]
  },
  {
   "cell_type": "markdown",
   "id": "28844c73-70e4-4651-ad82-d47e23df2ed4",
   "metadata": {},
   "source": [
    "def getRiskFreeRateEuroArea(country_code, currency_code):\n",
    "    # def getRiskFreeRateEuroArea():\n",
    "    #     # source: https://sdw.ecb.europa.eu/\n",
    "    #     # ID for 10 year-treasury : 229\n",
    "    #     # querly_url : https://sdw.ecb.europa.eu/quickview.do?SERIES_KEY=229\n",
    "    #     # series_key = IRS.M.AT.L.L40.CI.0000.EUR.N.Z\n",
    "    #     # country_code = AT\n",
    "    assert isinstance(country_code, str), \"Only string values\"\n",
    "    assert len(country_code) == 2, \"Country must be two characters long\"\n",
    "    assert isinstance(currency_code, str), \"Only string values\"\n",
    "    assert len(currency_code) == 3, \"Currency must be three characters long\"\n",
    "    try:\n",
    "        BASE_URL = \"https://sdw.ecb.europa.eu/quickview.do?SERIES_KEY=229.IRS.M.\" + country_code + \".L.L40.CI.0000.\" + currency_code + \".N.Z\"\n",
    "        data = pd.read_html(requests.get(BASE_URL, headers=headers).text)\n",
    "        table = data[5].loc[2:].reset_index(drop=True)\n",
    "        table = table.drop(columns=[\"obs. status\"])\n",
    "        table.columns = [\"Period\", \"Values in %\"]\n",
    "        return table\n",
    "    except AssertionError as msg:\n",
    "        print(msg)\n",
    "    \n",
    "getRiskFreeRateEuroArea(\"DE\", \"EUR\")\n",
    "getRiskFreeRateEuroArea(\"CZ\", \"CZK\")\n",
    "getRiskFreeRateEuroArea(\"DK\", \"DKK\")\n",
    "        "
   ]
  },
  {
   "cell_type": "code",
   "execution_count": 139,
   "id": "c8c28619-49b7-4ba6-ae7b-80b0ab29442d",
   "metadata": {},
   "outputs": [
    {
     "ename": "AttributeError",
     "evalue": "module 'modules.findata' has no attribute 'getRiskFreeRateEuroArea'",
     "output_type": "error",
     "traceback": [
      "\u001b[0;31m---------------------------------------------------------------------------\u001b[0m",
      "\u001b[0;31mAttributeError\u001b[0m                            Traceback (most recent call last)",
      "\u001b[0;32m/var/folders/js/lf9xkn9x7yg146j_k40r_0dw0000gn/T/ipykernel_2362/4141138500.py\u001b[0m in \u001b[0;36m<module>\u001b[0;34m\u001b[0m\n\u001b[0;32m----> 1\u001b[0;31m \u001b[0mfd\u001b[0m\u001b[0;34m.\u001b[0m\u001b[0mgetRiskFreeRateEuroArea\u001b[0m\u001b[0;34m(\u001b[0m\u001b[0;34m\"DE\"\u001b[0m\u001b[0;34m,\u001b[0m \u001b[0;34m\"EUR\"\u001b[0m\u001b[0;34m)\u001b[0m\u001b[0;34m\u001b[0m\u001b[0;34m\u001b[0m\u001b[0m\n\u001b[0m",
      "\u001b[0;31mAttributeError\u001b[0m: module 'modules.findata' has no attribute 'getRiskFreeRateEuroArea'"
     ]
    }
   ],
   "source": [
    "fd.getRiskFreeRateEuroArea(\"DE\", \"EUR\")"
   ]
  },
  {
   "cell_type": "code",
   "execution_count": null,
   "id": "2fb2baee-544d-41fb-9aa3-cdce5e004c58",
   "metadata": {},
   "outputs": [],
   "source": []
  }
 ],
 "metadata": {
  "kernelspec": {
   "display_name": "Python 3 (ipykernel)",
   "language": "python",
   "name": "python3"
  },
  "language_info": {
   "codemirror_mode": {
    "name": "ipython",
    "version": 3
   },
   "file_extension": ".py",
   "mimetype": "text/x-python",
   "name": "python",
   "nbconvert_exporter": "python",
   "pygments_lexer": "ipython3",
   "version": "3.8.8"
  }
 },
 "nbformat": 4,
 "nbformat_minor": 5
}
