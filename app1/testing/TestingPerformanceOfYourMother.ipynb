{
 "cells": [
  {
   "cell_type": "markdown",
   "id": "791ce224-6f2b-4641-9f8b-135d064c5acb",
   "metadata": {},
   "source": [
    "## Testing Code-Performance of your MOTHER "
   ]
  },
  {
   "cell_type": "code",
   "execution_count": 5,
   "id": "275f555d-8491-43c5-b9e1-262a6224b950",
   "metadata": {},
   "outputs": [],
   "source": [
    "import pandas as pd\n",
    "import numpy as np"
   ]
  },
  {
   "cell_type": "code",
   "execution_count": 6,
   "id": "cbc80c93-1c81-4aaa-820e-924ce77e2fab",
   "metadata": {},
   "outputs": [],
   "source": [
    "import sys, os\n",
    "sys.path.insert(0, '..')"
   ]
  },
  {
   "cell_type": "code",
   "execution_count": 7,
   "id": "da9da4bc-c996-4d34-a1d8-fc1a947f0437",
   "metadata": {},
   "outputs": [],
   "source": [
    "from modules import findata as fd"
   ]
  },
  {
   "cell_type": "code",
   "execution_count": null,
   "id": "d2593784-a96d-4e84-a12a-9d7d44516c07",
   "metadata": {},
   "outputs": [],
   "source": []
  },
  {
   "cell_type": "code",
   "execution_count": null,
   "id": "074fcc2d-b62f-45f6-9c2e-9d7bd8e6c0cd",
   "metadata": {},
   "outputs": [],
   "source": []
  }
 ],
 "metadata": {
  "kernelspec": {
   "display_name": "Python 3 (ipykernel)",
   "language": "python",
   "name": "python3"
  },
  "language_info": {
   "codemirror_mode": {
    "name": "ipython",
    "version": 3
   },
   "file_extension": ".py",
   "mimetype": "text/x-python",
   "name": "python",
   "nbconvert_exporter": "python",
   "pygments_lexer": "ipython3",
   "version": "3.8.8"
  }
 },
 "nbformat": 4,
 "nbformat_minor": 5
}
