{
 "cells": [
  {
   "cell_type": "code",
   "execution_count": 10,
   "id": "c03db66c-5914-41dd-8a05-fe34a7cec14b",
   "metadata": {},
   "outputs": [],
   "source": [
    "import pandas as pd\n",
    "import numpy as np\n",
    "import findata\n",
    "import company\n",
    "import json\n"
   ]
  },
  {
   "cell_type": "code",
   "execution_count": 11,
   "id": "65d5027f-79f7-4765-a413-92e428070a9f",
   "metadata": {},
   "outputs": [],
   "source": [
    "def renameCols(df):\n",
    "    col_list = list(df.columns)\n",
    "    df2 = df.set_axis([x.strftime(\"%m/%d/%Y\") for x in col_list], axis=1, inplace=False)\n",
    "    return df2\n",
    "\n",
    "def setDateRows1(df):\n",
    "    row_list = list(df.index)\n",
    "    df2 = df.set_axis([x.strftime(\"%m/%d/%Y\") for x in row_list], axis=0, inplace=False)\n",
    "    return df2"
   ]
  },
  {
   "cell_type": "code",
   "execution_count": 12,
   "id": "711968fc-d402-4ab4-ba8c-d365450c3506",
   "metadata": {},
   "outputs": [],
   "source": [
    "df = pd.DataFrame(company.Company(\"MSFT\").calculateROIC())"
   ]
  },
  {
   "cell_type": "code",
   "execution_count": 13,
   "id": "7704849a-01b1-4d0b-81c3-34dc163ab4a6",
   "metadata": {},
   "outputs": [
    {
     "data": {
      "text/plain": [
       "DatetimeIndex(['2021-06-30', '2020-06-30', '2019-06-30', '2018-06-30'], dtype='datetime64[ns]', name='', freq=None)"
      ]
     },
     "execution_count": 13,
     "metadata": {},
     "output_type": "execute_result"
    }
   ],
   "source": [
    "df.index"
   ]
  },
  {
   "cell_type": "code",
   "execution_count": 14,
   "id": "1e27dc9f-5065-40a5-8dfe-e7b4ebf51da5",
   "metadata": {},
   "outputs": [
    {
     "data": {
      "text/plain": [
       "[{'Dates': '06/30/2021', 'Values': 32.823460323772444},\n",
       " {'Dates': '06/30/2020', 'Values': 27.538132711551537},\n",
       " {'Dates': '06/30/2019', 'Values': 26.097576218400743},\n",
       " {'Dates': '06/30/2018', 'Values': 13.6910323874472}]"
      ]
     },
     "execution_count": 14,
     "metadata": {},
     "output_type": "execute_result"
    }
   ],
   "source": [
    "def to_dict(df):\n",
    "    data = []\n",
    "    df = setDateRows1(df)\n",
    "    df = df.reset_index()\n",
    "    df = df.set_axis([\"Dates\", \"Values\"], axis=1, inplace=False)\n",
    "    dict_data = []\n",
    "    for i in range(df.shape[0]):\n",
    "        dict_data.append(dict(df.iloc[i]))\n",
    "    return dict_data\n",
    "\n",
    "to_dict(df)"
   ]
  },
  {
   "cell_type": "code",
   "execution_count": 15,
   "id": "ac371d61-7ad8-4b41-8012-fa5a81d1620f",
   "metadata": {},
   "outputs": [
    {
     "name": "stdout",
     "output_type": "stream",
     "text": [
      "{'Dates': '06/30/2021', 'Values': 32.823460323772444}\n",
      "{'Dates': '06/30/2020', 'Values': 27.538132711551537}\n",
      "{'Dates': '06/30/2019', 'Values': 26.097576218400743}\n",
      "{'Dates': '06/30/2018', 'Values': 13.6910323874472}\n"
     ]
    }
   ],
   "source": [
    "allData = to_dict(df)\n",
    "type(allData)\n",
    "for i in allData:\n",
    "    print(i)"
   ]
  },
  {
   "cell_type": "code",
   "execution_count": null,
   "id": "9c7d93a1-3cd0-4034-9faa-0af43e214849",
   "metadata": {},
   "outputs": [],
   "source": []
  },
  {
   "cell_type": "code",
   "execution_count": 16,
   "id": "52b5155e-5bc4-4324-a371-fc6fe8aa8e52",
   "metadata": {},
   "outputs": [
    {
     "ename": "NameError",
     "evalue": "name 'df2' is not defined",
     "output_type": "error",
     "traceback": [
      "\u001b[0;31m---------------------------------------------------------------------------\u001b[0m",
      "\u001b[0;31mNameError\u001b[0m                                 Traceback (most recent call last)",
      "\u001b[0;32m/var/folders/js/lf9xkn9x7yg146j_k40r_0dw0000gn/T/ipykernel_3173/2484538223.py\u001b[0m in \u001b[0;36m<module>\u001b[0;34m\u001b[0m\n\u001b[1;32m      1\u001b[0m \u001b[0;32mdef\u001b[0m \u001b[0mto_dict\u001b[0m\u001b[0;34m(\u001b[0m\u001b[0mdf\u001b[0m\u001b[0;34m)\u001b[0m\u001b[0;34m:\u001b[0m\u001b[0;34m\u001b[0m\u001b[0;34m\u001b[0m\u001b[0m\n\u001b[1;32m      2\u001b[0m     \u001b[0;32mreturn\u001b[0m \u001b[0mdata\u001b[0m\u001b[0;34m\u001b[0m\u001b[0;34m\u001b[0m\u001b[0m\n\u001b[0;32m----> 3\u001b[0;31m \u001b[0mto_dict\u001b[0m\u001b[0;34m(\u001b[0m\u001b[0mdf2\u001b[0m\u001b[0;34m)\u001b[0m\u001b[0;34m\u001b[0m\u001b[0;34m\u001b[0m\u001b[0m\n\u001b[0m",
      "\u001b[0;31mNameError\u001b[0m: name 'df2' is not defined"
     ]
    }
   ],
   "source": [
    "def to_dict(df):\n",
    "    return data\n",
    "to_dict(df2)"
   ]
  },
  {
   "cell_type": "code",
   "execution_count": null,
   "id": "77bd9554-b4ae-49e4-81cb-434eec9c37f1",
   "metadata": {},
   "outputs": [],
   "source": [
    "\n",
    "allData"
   ]
  },
  {
   "cell_type": "code",
   "execution_count": null,
   "id": "a5115d4f-3286-44b3-85dd-78d63725c7c3",
   "metadata": {},
   "outputs": [],
   "source": []
  },
  {
   "cell_type": "code",
   "execution_count": null,
   "id": "2009633b-c9b4-4ada-9dec-6455dc0b0666",
   "metadata": {},
   "outputs": [],
   "source": []
  }
 ],
 "metadata": {
  "kernelspec": {
   "display_name": "Python 3 (ipykernel)",
   "language": "python",
   "name": "python3"
  },
  "language_info": {
   "codemirror_mode": {
    "name": "ipython",
    "version": 3
   },
   "file_extension": ".py",
   "mimetype": "text/x-python",
   "name": "python",
   "nbconvert_exporter": "python",
   "pygments_lexer": "ipython3",
   "version": "3.8.8"
  }
 },
 "nbformat": 4,
 "nbformat_minor": 5
}
