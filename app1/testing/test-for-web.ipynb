{
 "cells": [
  {
   "cell_type": "code",
   "execution_count": 82,
   "id": "14aaf65c-9637-445e-b492-377466122b53",
   "metadata": {},
   "outputs": [],
   "source": [
    "import sys, os"
   ]
  },
  {
   "cell_type": "code",
   "execution_count": 83,
   "id": "716ef486-991d-48e0-8ed0-cb07e28b1fcd",
   "metadata": {},
   "outputs": [],
   "source": [
    "sys.path.insert(0, '..')\n",
    "from modules import findata as fd\n",
    "from modules import company"
   ]
  },
  {
   "cell_type": "code",
   "execution_count": 84,
   "id": "c03db66c-5914-41dd-8a05-fe34a7cec14b",
   "metadata": {},
   "outputs": [],
   "source": [
    "import pandas as pd\n",
    "import numpy as np\n",
    "import json"
   ]
  },
  {
   "cell_type": "code",
   "execution_count": 85,
   "id": "65d5027f-79f7-4765-a413-92e428070a9f",
   "metadata": {},
   "outputs": [],
   "source": [
    "def renameCols(df):\n",
    "    col_list = list(df.columns)\n",
    "    df2 = df.set_axis([x.strftime(\"%m/%d/%Y\") for x in col_list], axis=1, inplace=False)\n",
    "    return df2\n",
    "\n",
    "def setDateRows1(df):\n",
    "    row_list = list(df.index)\n",
    "    df2 = df.set_axis([x.strftime(\"%m/%d/%Y\") for x in row_list], axis=0, inplace=False)\n",
    "    return df2"
   ]
  },
  {
   "cell_type": "code",
   "execution_count": 86,
   "id": "e4f5fdcf-a044-4a08-af39-72b901af72bd",
   "metadata": {},
   "outputs": [],
   "source": [
    "target = company.Company(\"MSFT\")"
   ]
  },
  {
   "cell_type": "code",
   "execution_count": 87,
   "id": "4b1d8708-99d4-4525-abab-eb4b5876d8f5",
   "metadata": {},
   "outputs": [
    {
     "data": {
      "text/plain": [
       "modules.company.Company"
      ]
     },
     "execution_count": 87,
     "metadata": {},
     "output_type": "execute_result"
    }
   ],
   "source": [
    "type(target)"
   ]
  },
  {
   "cell_type": "code",
   "execution_count": 88,
   "id": "711968fc-d402-4ab4-ba8c-d365450c3506",
   "metadata": {},
   "outputs": [
    {
     "data": {
      "text/html": [
       "<div>\n",
       "<style scoped>\n",
       "    .dataframe tbody tr th:only-of-type {\n",
       "        vertical-align: middle;\n",
       "    }\n",
       "\n",
       "    .dataframe tbody tr th {\n",
       "        vertical-align: top;\n",
       "    }\n",
       "\n",
       "    .dataframe thead th {\n",
       "        text-align: right;\n",
       "    }\n",
       "</style>\n",
       "<table border=\"1\" class=\"dataframe\">\n",
       "  <thead>\n",
       "    <tr style=\"text-align: right;\">\n",
       "      <th></th>\n",
       "      <th></th>\n",
       "      <th>0</th>\n",
       "    </tr>\n",
       "  </thead>\n",
       "  <tbody>\n",
       "    <tr>\n",
       "      <th>0</th>\n",
       "      <td>2021-06-30</td>\n",
       "      <td>74.136545</td>\n",
       "    </tr>\n",
       "    <tr>\n",
       "      <th>1</th>\n",
       "      <td>2020-06-30</td>\n",
       "      <td>51.722093</td>\n",
       "    </tr>\n",
       "    <tr>\n",
       "      <th>2</th>\n",
       "      <td>2019-06-30</td>\n",
       "      <td>47.215731</td>\n",
       "    </tr>\n",
       "    <tr>\n",
       "      <th>3</th>\n",
       "      <td>2018-06-30</td>\n",
       "      <td>22.536744</td>\n",
       "    </tr>\n",
       "  </tbody>\n",
       "</table>\n",
       "</div>"
      ],
      "text/plain": [
       "                      0\n",
       "0 2021-06-30  74.136545\n",
       "1 2020-06-30  51.722093\n",
       "2 2019-06-30  47.215731\n",
       "3 2018-06-30  22.536744"
      ]
     },
     "execution_count": 88,
     "metadata": {},
     "output_type": "execute_result"
    }
   ],
   "source": [
    "df = pd.DataFrame(target.calculateROIC())\n",
    "df.reset_index()"
   ]
  },
  {
   "cell_type": "code",
   "execution_count": 63,
   "id": "7704849a-01b1-4d0b-81c3-34dc163ab4a6",
   "metadata": {},
   "outputs": [
    {
     "ename": "AttributeError",
     "evalue": "'Company' object has no attribute 'getNopat'",
     "output_type": "error",
     "traceback": [
      "\u001b[0;31m---------------------------------------------------------------------------\u001b[0m",
      "\u001b[0;31mAttributeError\u001b[0m                            Traceback (most recent call last)",
      "\u001b[0;32m/var/folders/js/lf9xkn9x7yg146j_k40r_0dw0000gn/T/ipykernel_15469/2689646885.py\u001b[0m in \u001b[0;36m<module>\u001b[0;34m\u001b[0m\n\u001b[0;32m----> 1\u001b[0;31m \u001b[0mtarget_nopat\u001b[0m  \u001b[0;34m=\u001b[0m \u001b[0mpd\u001b[0m\u001b[0;34m.\u001b[0m\u001b[0mDataFrame\u001b[0m\u001b[0;34m(\u001b[0m\u001b[0mtarget\u001b[0m\u001b[0;34m.\u001b[0m\u001b[0mgetNopat\u001b[0m\u001b[0;34m(\u001b[0m\u001b[0;34m)\u001b[0m\u001b[0;34m)\u001b[0m\u001b[0;34m\u001b[0m\u001b[0;34m\u001b[0m\u001b[0m\n\u001b[0m",
      "\u001b[0;31mAttributeError\u001b[0m: 'Company' object has no attribute 'getNopat'"
     ]
    }
   ],
   "source": [
    "target_nopat  = pd.DataFrame(target.getNopat())"
   ]
  },
  {
   "cell_type": "code",
   "execution_count": null,
   "id": "e3f144fe-f21e-47f8-8a3e-191ef2d07b22",
   "metadata": {},
   "outputs": [],
   "source": [
    "swf to_dict(d"
   ]
  },
  {
   "cell_type": "code",
   "execution_count": 81,
   "id": "1e27dc9f-5065-40a5-8dfe-e7b4ebf51da5",
   "metadata": {},
   "outputs": [
    {
     "data": {
      "text/html": [
       "<div>\n",
       "<style scoped>\n",
       "    .dataframe tbody tr th:only-of-type {\n",
       "        vertical-align: middle;\n",
       "    }\n",
       "\n",
       "    .dataframe tbody tr th {\n",
       "        vertical-align: top;\n",
       "    }\n",
       "\n",
       "    .dataframe thead th {\n",
       "        text-align: right;\n",
       "    }\n",
       "</style>\n",
       "<table border=\"1\" class=\"dataframe\">\n",
       "  <thead>\n",
       "    <tr style=\"text-align: right;\">\n",
       "      <th></th>\n",
       "      <th>Dates</th>\n",
       "      <th>ROIC</th>\n",
       "    </tr>\n",
       "  </thead>\n",
       "  <tbody>\n",
       "    <tr>\n",
       "      <th>0</th>\n",
       "      <td>06/30/2021</td>\n",
       "      <td>74.136545</td>\n",
       "    </tr>\n",
       "    <tr>\n",
       "      <th>1</th>\n",
       "      <td>06/30/2020</td>\n",
       "      <td>51.722093</td>\n",
       "    </tr>\n",
       "    <tr>\n",
       "      <th>2</th>\n",
       "      <td>06/30/2019</td>\n",
       "      <td>47.215731</td>\n",
       "    </tr>\n",
       "    <tr>\n",
       "      <th>3</th>\n",
       "      <td>06/30/2018</td>\n",
       "      <td>22.536744</td>\n",
       "    </tr>\n",
       "  </tbody>\n",
       "</table>\n",
       "</div>"
      ],
      "text/plain": [
       "        Dates       ROIC\n",
       "0  06/30/2021  74.136545\n",
       "1  06/30/2020  51.722093\n",
       "2  06/30/2019  47.215731\n",
       "3  06/30/2018  22.536744"
      ]
     },
     "execution_count": 81,
     "metadata": {},
     "output_type": "execute_result"
    }
   ],
   "source": [
    "def to_dict(df):\n",
    "    data = []\n",
    "    df = setDateRows1(df)\n",
    "    df = df.reset_index()\n",
    "    df = df.set_axis([\"Dates\", \"ROIC\"], axis=1, inplace=False)\n",
    "    dict_data = []\n",
    "    for i in range(df.shape[0]):\n",
    "        dict_data.append(dict(df.iloc[i]))\n",
    "    return df\n",
    "\n",
    "to_dict(df)"
   ]
  },
  {
   "cell_type": "code",
   "execution_count": 71,
   "id": "ac371d61-7ad8-4b41-8012-fa5a81d1620f",
   "metadata": {},
   "outputs": [
    {
     "name": "stdout",
     "output_type": "stream",
     "text": [
      "{'Dates': '06/30/2021', 'ROIC': 74.13654450699224}\n",
      "{'Dates': '06/30/2020', 'ROIC': 51.72209297021121}\n",
      "{'Dates': '06/30/2019', 'ROIC': 47.21573135340896}\n",
      "{'Dates': '06/30/2018', 'ROIC': 22.536744202781225}\n"
     ]
    }
   ],
   "source": [
    "allData = to_dict(df)\n",
    "type(allData)\n",
    "for i in allData:\n",
    "    print(i)"
   ]
  },
  {
   "cell_type": "code",
   "execution_count": 72,
   "id": "9c7d93a1-3cd0-4034-9faa-0af43e214849",
   "metadata": {},
   "outputs": [
    {
     "data": {
      "text/plain": [
       "[{'Dates': '06/30/2021', 'ROIC': 74.13654450699224},\n",
       " {'Dates': '06/30/2020', 'ROIC': 51.72209297021121},\n",
       " {'Dates': '06/30/2019', 'ROIC': 47.21573135340896},\n",
       " {'Dates': '06/30/2018', 'ROIC': 22.536744202781225}]"
      ]
     },
     "execution_count": 72,
     "metadata": {},
     "output_type": "execute_result"
    }
   ],
   "source": [
    "allData"
   ]
  },
  {
   "cell_type": "code",
   "execution_count": null,
   "id": "52b5155e-5bc4-4324-a371-fc6fe8aa8e52",
   "metadata": {},
   "outputs": [],
   "source": []
  },
  {
   "cell_type": "code",
   "execution_count": 80,
   "id": "77bd9554-b4ae-49e4-81cb-434eec9c37f1",
   "metadata": {},
   "outputs": [
    {
     "data": {
      "text/plain": [
       "51.72209297021121"
      ]
     },
     "execution_count": 80,
     "metadata": {},
     "output_type": "execute_result"
    }
   ],
   "source": [
    "\n",
    "allData[1][\"ROIC\"]"
   ]
  },
  {
   "cell_type": "code",
   "execution_count": null,
   "id": "a5115d4f-3286-44b3-85dd-78d63725c7c3",
   "metadata": {},
   "outputs": [],
   "source": []
  },
  {
   "cell_type": "code",
   "execution_count": null,
   "id": "2009633b-c9b4-4ada-9dec-6455dc0b0666",
   "metadata": {},
   "outputs": [],
   "source": []
  }
 ],
 "metadata": {
  "kernelspec": {
   "display_name": "Python 3 (ipykernel)",
   "language": "python",
   "name": "python3"
  },
  "language_info": {
   "codemirror_mode": {
    "name": "ipython",
    "version": 3
   },
   "file_extension": ".py",
   "mimetype": "text/x-python",
   "name": "python",
   "nbconvert_exporter": "python",
   "pygments_lexer": "ipython3",
   "version": "3.8.8"
  }
 },
 "nbformat": 4,
 "nbformat_minor": 5
}
