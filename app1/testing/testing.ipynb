{
 "cells": [
  {
   "cell_type": "code",
   "execution_count": 1,
   "id": "285c789a-f337-48ff-95b7-13c93dcc6f13",
   "metadata": {},
   "outputs": [],
   "source": [
    "import pandas as pd\n",
    "import numpy as np\n",
    "\n",
    "# fix issue with modules (unresolved)\n",
    "import findata as fd\n",
    "import datetime as dt\n",
    "import time_measurement as tm"
   ]
  },
  {
   "cell_type": "code",
   "execution_count": 2,
   "id": "c2399d15-be85-415c-8b72-ef8c27f08ac8",
   "metadata": {},
   "outputs": [
    {
     "data": {
      "text/plain": [
       "0.022099999999999998"
      ]
     },
     "execution_count": 2,
     "metadata": {},
     "output_type": "execute_result"
    }
   ],
   "source": [
    "def getRiskFreeRateMonth():\n",
    "    URL = \"https://home.treasury.gov/resource-center/data-chart-center/interest-rates/TextView?type=daily_treasury_long_term_rate&field_tdr_date_value_month=202202\"\n",
    "    table = pd.read_html(URL)\n",
    "    return table[0].iloc[:,[0,3]]\n",
    "\n",
    "def getCurrentRiskFreeRate():\n",
    "    data = getRiskFreeRateMonth()\n",
    "    return np.double(data.iloc[-1,[1]])/100\n",
    "    \n",
    "getCurrentRiskFreeRate()"
   ]
  },
  {
   "cell_type": "code",
   "execution_count": null,
   "id": "2539243d-c0cc-45e5-a5af-f8a3fb0e00f9",
   "metadata": {},
   "outputs": [],
   "source": []
  },
  {
   "cell_type": "code",
   "execution_count": 3,
   "id": "3b93e5f2-938c-49c2-8574-7b21540792fe",
   "metadata": {},
   "outputs": [
    {
     "data": {
      "text/plain": [
       "0.09394"
      ]
     },
     "execution_count": 3,
     "metadata": {},
     "output_type": "execute_result"
    }
   ],
   "source": [
    "# calculation with 64bits\n",
    "def calculateWacc(industry='Total Market', country='United States', year=dt.date.today().year):\n",
    "    # get risk free rate\n",
    "    risk_free_rate = getCurrentRiskFreeRate()\n",
    "    # get countries equity risk premium\n",
    "    risk_premium = fd.getCountryERP(country)\n",
    "    # todays unlevered beta \n",
    "    unlevered_beta = fd.getUnleveredBeta(industry,year)\n",
    "    # cost of equity\n",
    "    equity_cost = risk_premium * unlevered_beta + risk_free_rate\n",
    "    post_tax_debt_cost = fd.getCostOfDebt()\n",
    "    result = equity_cost + post_tax_debt_cost\n",
    "    return result\n",
    "calculateWacc()"
   ]
  },
  {
   "cell_type": "code",
   "execution_count": 4,
   "id": "9f970779-1382-41ae-9736-988abe04e686",
   "metadata": {},
   "outputs": [
    {
     "data": {
      "text/plain": [
       "numpy.float64"
      ]
     },
     "execution_count": 4,
     "metadata": {},
     "output_type": "execute_result"
    }
   ],
   "source": [
    "type(calculateWacc())"
   ]
  },
  {
   "cell_type": "code",
   "execution_count": 5,
   "id": "6b2d69a8-3c6f-4266-a3b6-cdb9e86a15b7",
   "metadata": {},
   "outputs": [
    {
     "data": {
      "text/plain": [
       "0.093940005"
      ]
     },
     "execution_count": 5,
     "metadata": {},
     "output_type": "execute_result"
    }
   ],
   "source": [
    "def calculateWacc32bit(industry='Total Market', country='United States', year=dt.date.today().year):\n",
    "    # get risk free rate\n",
    "    risk_free_rate = np.float32(getCurrentRiskFreeRate())\n",
    "    # get countries equity risk premium\n",
    "    risk_premium = np.float32(fd.getCountryERP(country))\n",
    "    # todays unlevered beta \n",
    "    unlevered_beta = np.float32(fd.getUnleveredBeta(industry,year))\n",
    "    # cost of equity\n",
    "    equity_cost = risk_premium * unlevered_beta + risk_free_rate\n",
    "    post_tax_debt_cost = np.float32(fd.getCostOfDebt())\n",
    "    result = equity_cost + post_tax_debt_cost\n",
    "    return result\n",
    "calculateWacc32bit()"
   ]
  },
  {
   "cell_type": "code",
   "execution_count": 6,
   "id": "60b511a1-feb3-40e9-a1bd-543c635537cd",
   "metadata": {},
   "outputs": [
    {
     "data": {
      "text/plain": [
       "numpy.float32"
      ]
     },
     "execution_count": 6,
     "metadata": {},
     "output_type": "execute_result"
    }
   ],
   "source": [
    "type(calculateWacc32bit())"
   ]
  },
  {
   "cell_type": "markdown",
   "id": "50f0b72d-bac0-4f38-9478-5c74f3839524",
   "metadata": {},
   "source": [
    "=> convert 64-bit into 32 bit, because 64 bit takes 2x more memory"
   ]
  },
  {
   "cell_type": "markdown",
   "id": "6312397d-d076-49aa-b8be-2a60ce3e8f06",
   "metadata": {},
   "source": [
    "How about computing time? Calcualtion with 32bit values should be faster than 64bit values? If, yes, how much faster?"
   ]
  },
  {
   "cell_type": "code",
   "execution_count": 7,
   "id": "9572cf67-a266-409e-a0ee-914297904a67",
   "metadata": {},
   "outputs": [],
   "source": [
    "# convering to 32-bit\n",
    "# type casting the return value\n",
    "# probably won't change alot\n",
    "_32bit = np.float32(calculateWacc())"
   ]
  },
  {
   "cell_type": "code",
   "execution_count": 8,
   "id": "11e2bbc8-855c-4771-9622-66397219418f",
   "metadata": {},
   "outputs": [
    {
     "data": {
      "text/plain": [
       "numpy.float32"
      ]
     },
     "execution_count": 8,
     "metadata": {},
     "output_type": "execute_result"
    }
   ],
   "source": [
    "type(_32bit)"
   ]
  },
  {
   "cell_type": "markdown",
   "id": "31367178-cc80-4801-a122-dcce2d5220a5",
   "metadata": {},
   "source": [
    "### Measuring time with 64bit"
   ]
  },
  {
   "cell_type": "code",
   "execution_count": 9,
   "id": "6b6aacd5-7bcd-4eb2-a4af-62780baac518",
   "metadata": {},
   "outputs": [
    {
     "ename": "TypeError",
     "evalue": "format() argument 2 must be str, not float",
     "output_type": "error",
     "traceback": [
      "\u001b[0;31m---------------------------------------------------------------------------\u001b[0m",
      "\u001b[0;31mTypeError\u001b[0m                                 Traceback (most recent call last)",
      "\u001b[0;32m/var/folders/js/lf9xkn9x7yg146j_k40r_0dw0000gn/T/ipykernel_1252/1645783189.py\u001b[0m in \u001b[0;36m<module>\u001b[0;34m\u001b[0m\n\u001b[1;32m      1\u001b[0m \u001b[0mtime_calculateWacc\u001b[0m \u001b[0;34m=\u001b[0m \u001b[0mtm\u001b[0m\u001b[0;34m.\u001b[0m\u001b[0mcalculate_time\u001b[0m\u001b[0;34m(\u001b[0m\u001b[0mcalculateWacc\u001b[0m\u001b[0;34m)\u001b[0m\u001b[0;34m\u001b[0m\u001b[0;34m\u001b[0m\u001b[0m\n\u001b[0;32m----> 2\u001b[0;31m \u001b[0mtime_calculateWacc\u001b[0m\u001b[0;34m(\u001b[0m\u001b[0;34m)\u001b[0m\u001b[0;34m\u001b[0m\u001b[0;34m\u001b[0m\u001b[0m\n\u001b[0m",
      "\u001b[0;32m~/Programming/projects/metrixx/src/app1/testing/time_measurement.py\u001b[0m in \u001b[0;36minner1\u001b[0;34m(*args, **kwargs)\u001b[0m\n\u001b[1;32m     62\u001b[0m                 \u001b[0mend\u001b[0m \u001b[0;34m=\u001b[0m \u001b[0mtime\u001b[0m\u001b[0;34m.\u001b[0m\u001b[0mperf_counter\u001b[0m\u001b[0;34m(\u001b[0m\u001b[0;34m)\u001b[0m\u001b[0;34m\u001b[0m\u001b[0;34m\u001b[0m\u001b[0m\n\u001b[1;32m     63\u001b[0m \u001b[0;34m\u001b[0m\u001b[0m\n\u001b[0;32m---> 64\u001b[0;31m                 \u001b[0mprint\u001b[0m\u001b[0;34m(\u001b[0m\u001b[0;34m\"Total time taken for {} : {} \"\u001b[0m\u001b[0;34m,\u001b[0m\u001b[0mformat\u001b[0m\u001b[0;34m(\u001b[0m\u001b[0mfunc\u001b[0m\u001b[0;34m.\u001b[0m\u001b[0m__name__\u001b[0m\u001b[0;34m,\u001b[0m \u001b[0mend\u001b[0m \u001b[0;34m-\u001b[0m \u001b[0mbegin\u001b[0m\u001b[0;34m)\u001b[0m\u001b[0;34m)\u001b[0m\u001b[0;34m\u001b[0m\u001b[0;34m\u001b[0m\u001b[0m\n\u001b[0m\u001b[1;32m     65\u001b[0m \u001b[0;34m\u001b[0m\u001b[0m\n\u001b[1;32m     66\u001b[0m         \u001b[0;32mreturn\u001b[0m \u001b[0minner1\u001b[0m\u001b[0;34m\u001b[0m\u001b[0;34m\u001b[0m\u001b[0m\n",
      "\u001b[0;31mTypeError\u001b[0m: format() argument 2 must be str, not float"
     ]
    }
   ],
   "source": [
    "time_calculateWacc = tm.calculate_time(calculateWacc)\n",
    "time_calculateWacc()"
   ]
  },
  {
   "cell_type": "markdown",
   "id": "d81b7f99-5f55-4c6c-8840-389ad742b352",
   "metadata": {},
   "source": [
    "### Measuring time with 32bit"
   ]
  },
  {
   "cell_type": "code",
   "execution_count": null,
   "id": "b5f788c7-6ee6-488c-80ab-19ed6ef68187",
   "metadata": {},
   "outputs": [],
   "source": [
    "time_32bit = tm.calculate_time(calculateWacc32bit)\n",
    "time_32bit()"
   ]
  },
  {
   "cell_type": "markdown",
   "id": "927d67bc-f878-4623-be2c-883ec724ffd0",
   "metadata": {},
   "source": [
    "## Solution for % in DValues"
   ]
  },
  {
   "cell_type": "code",
   "execution_count": null,
   "id": "09f13a27-319e-4868-87a9-9e4d2d613c31",
   "metadata": {},
   "outputs": [],
   "source": [
    "message = \" this    is   \"\n",
    "print(message.strip())"
   ]
  },
  {
   "cell_type": "code",
   "execution_count": null,
   "id": "b888444c-dc1c-4954-9702-d58a08a57ae6",
   "metadata": {},
   "outputs": [],
   "source": [
    "message2 = \"this     is\"\n",
    "\" \".join(message2.split())"
   ]
  },
  {
   "cell_type": "markdown",
   "id": "0d41f323-ab32-443e-821c-d3b55d2a1da4",
   "metadata": {},
   "source": [
    "## Solution for Redundant Whitespaces in Datatables"
   ]
  },
  {
   "cell_type": "code",
   "execution_count": null,
   "id": "88fc3c1c-7322-4f72-839c-155786e6cca9",
   "metadata": {},
   "outputs": [],
   "source": [
    "\" \".join(message.split()) ## -> iterating over names and remove whitespace!! in data"
   ]
  },
  {
   "cell_type": "code",
   "execution_count": null,
   "id": "0efcdbf1-4a5e-417f-82ba-1ee7734e466c",
   "metadata": {},
   "outputs": [],
   "source": [
    "# testing whitspace removal\n",
    "\n",
    "def removeWhitespace(dataframe):\n",
    "    # iterate over dataframe\n",
    "    # locate redundant whitespace in col \"name\"\n",
    "    # remove whitespace with\n",
    "    \n",
    "    # initial implementation\n",
    "    for i, row in dataframe.iterrows():\n",
    "        \" \".join(row.split())\n",
    "    return dataframe"
   ]
  },
  {
   "cell_type": "markdown",
   "id": "5795982c-49f7-4a49-a8b1-507a0f51144e",
   "metadata": {},
   "source": [
    "Whitespace removal complexity: O(n)"
   ]
  },
  {
   "cell_type": "markdown",
   "id": "8e619279-574d-4603-b019-1dbea707097d",
   "metadata": {},
   "source": [
    "## Testing Whitespace removal"
   ]
  },
  {
   "cell_type": "code",
   "execution_count": 10,
   "id": "585a676b-d86e-40af-98d5-992168e7b437",
   "metadata": {},
   "outputs": [
    {
     "ename": "NameError",
     "evalue": "name 'getBetaData' is not defined",
     "output_type": "error",
     "traceback": [
      "\u001b[0;31m---------------------------------------------------------------------------\u001b[0m",
      "\u001b[0;31mNameError\u001b[0m                                 Traceback (most recent call last)",
      "\u001b[0;32m/var/folders/js/lf9xkn9x7yg146j_k40r_0dw0000gn/T/ipykernel_1252/3673138607.py\u001b[0m in \u001b[0;36m<module>\u001b[0;34m\u001b[0m\n\u001b[0;32m----> 1\u001b[0;31m \u001b[0mgetBetaData\u001b[0m\u001b[0;34m(\u001b[0m\u001b[0;34m)\u001b[0m\u001b[0;34m\u001b[0m\u001b[0;34m\u001b[0m\u001b[0m\n\u001b[0m",
      "\u001b[0;31mNameError\u001b[0m: name 'getBetaData' is not defined"
     ]
    }
   ],
   "source": [
    "getBetaData()"
   ]
  },
  {
   "cell_type": "code",
   "execution_count": null,
   "id": "ced8a784-c91e-4f4e-bafd-00cad45fe2eb",
   "metadata": {},
   "outputs": [],
   "source": []
  }
 ],
 "metadata": {
  "kernelspec": {
   "display_name": "Python 3 (ipykernel)",
   "language": "python",
   "name": "python3"
  },
  "language_info": {
   "codemirror_mode": {
    "name": "ipython",
    "version": 3
   },
   "file_extension": ".py",
   "mimetype": "text/x-python",
   "name": "python",
   "nbconvert_exporter": "python",
   "pygments_lexer": "ipython3",
   "version": "3.8.8"
  }
 },
 "nbformat": 4,
 "nbformat_minor": 5
}
